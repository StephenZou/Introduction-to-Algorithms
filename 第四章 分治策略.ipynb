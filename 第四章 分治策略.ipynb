{
 "cells": [
  {
   "cell_type": "markdown",
   "metadata": {},
   "source": [
    "## 最大子数组问题"
   ]
  },
  {
   "cell_type": "markdown",
   "metadata": {},
   "source": [
    "(1) 求出一组数据中，和最大的一组子数组数据。<br/>\n",
    "(2) 寻找子数组$A[low..high]$的最大子数组，先找到A的中央位置mid,求解两个子数组$A[low..mid]$和$A[mid+1..high]$。$A[low..high]$的任何连续子数组$A[i..j]$所处的位置必然是一下三种情况之一：\n",
    "+ 完全位于子数组$A[low..mid]$中，因此$ low \\leq i \\leq j \\leq mid $\n",
    "+ 完全位于子数组$A[mid+1..high]$中，因此$ mid \\leq i \\leq j \\leq high $\n",
    "+ 跨越了中点，因此$ low \\leq i \\leq mid \\leq j \\leq mid $"
   ]
  },
  {
   "cell_type": "code",
   "execution_count": 2,
   "metadata": {},
   "outputs": [],
   "source": [
    "# 求出跨越中点的最大子数组\n",
    "def find_max_crossing_subarray(arr, low, mid, high):\n",
    "    left_sum = float('-inf')\n",
    "    arr_sum = 0\n",
    "    max_left = -1\n",
    "    for i in range(mid, low-1, -1):\n",
    "        arr_sum = arr_sum + arr[i]\n",
    "        if arr_sum > left_sum:\n",
    "            left_sum = arr_sum\n",
    "            max_left = i\n",
    "    right_sum = float('-inf')\n",
    "    arr_sum = 0\n",
    "    max_right = -1\n",
    "    for j in range(mid+1, high+1):\n",
    "        arr_sum = arr_sum + arr[j]\n",
    "        if arr_sum > right_sum:\n",
    "            right_sum = arr_sum\n",
    "            max_right = j\n",
    "    return max_left, max_right, left_sum+right_sum"
   ]
  },
  {
   "cell_type": "code",
   "execution_count": 7,
   "metadata": {},
   "outputs": [],
   "source": [
    "# 寻找一个最大的子数组\n",
    "def find_maximum_subarray(arr, low=0, high=-1):\n",
    "    if(high == -1):\n",
    "        high = len(arr)-1\n",
    "    if high == low:\n",
    "        return (low, high, arr[low])\n",
    "    else:\n",
    "        mid = (low+high)//2\n",
    "        left_low, left_high, left_sum = find_maximum_subarray(arr, low, mid)\n",
    "        right_low, right_high, right_sum = find_maximum_subarray(arr, mid+1, high)\n",
    "        cross_low, cross_high, cross_sum = find_max_crossing_subarray(arr, low, mid, high)\n",
    "        if left_sum >= right_sum and left_sum >= cross_sum:\n",
    "            return left_low, left_high, left_sum\n",
    "        elif right_sum >= left_sum and right_sum >= cross_sum:\n",
    "            return right_low, right_high, right_sum\n",
    "        else:\n",
    "            return cross_low, cross_high, cross_sum"
   ]
  },
  {
   "cell_type": "code",
   "execution_count": 9,
   "metadata": {},
   "outputs": [
    {
     "name": "stdout",
     "output_type": "stream",
     "text": [
      "left:7, right:10, sum:43\n"
     ]
    }
   ],
   "source": [
    "arr_test = [13, -3, -25, 20, -3, -16, -23, 18, 20, -7, 12, -5, -22, 15, -4, 7]\n",
    "left, right, arr_sum = find_maximum_subarray(arr_test)\n",
    "print(\"left:{}, right:{}, sum:{}\".format(left, right, arr_sum))"
   ]
  },
  {
   "cell_type": "code",
   "execution_count": 10,
   "metadata": {},
   "outputs": [
    {
     "name": "stdout",
     "output_type": "stream",
     "text": [
      "left:2, right:2, sum:-1\n"
     ]
    }
   ],
   "source": [
    "arr_test1 = [-3,-4,-1,-5,-7]\n",
    "left, right, arr_sum = find_maximum_subarray(arr_test1)\n",
    "print(\"left:{}, right:{}, sum:{}\".format(left, right, arr_sum))"
   ]
  },
  {
   "cell_type": "code",
   "execution_count": null,
   "metadata": {},
   "outputs": [],
   "source": []
  }
 ],
 "metadata": {
  "kernelspec": {
   "display_name": "dllearn",
   "language": "python",
   "name": "dllearn"
  },
  "language_info": {
   "codemirror_mode": {
    "name": "ipython",
    "version": 3
   },
   "file_extension": ".py",
   "mimetype": "text/x-python",
   "name": "python",
   "nbconvert_exporter": "python",
   "pygments_lexer": "ipython3",
   "version": "3.6.8"
  }
 },
 "nbformat": 4,
 "nbformat_minor": 2
}
