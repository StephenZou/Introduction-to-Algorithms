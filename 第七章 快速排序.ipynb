{
 "cells": [
  {
   "cell_type": "markdown",
   "metadata": {},
   "source": [
    "+ 快速排序思想：\n",
    "\n",
    "**分解**：数组$A[p..q]$被划分为两个（可能为空）子数组$A[p..q-1]$和$A[q+1..r]$，使得$A[p..q-1]$中的每一个元素都小于等于$A[q]$，而$A[q]$也小于等于$A[q+1..r]$中的每个元素。其中，计算下表q也是划分过程的一部分。\n",
    "\n",
    "**解决**：通过递归调用快速排序，对子数组$A[p..q-1]$和$A[q+1..r]$进行排序。\n",
    "\n",
    "**合并**：因为子数组都是原址排序的，所以不需要合并操作：数组$A[p..q]$已经有序。"
   ]
  },
  {
   "cell_type": "code",
   "execution_count": 1,
   "metadata": {},
   "outputs": [],
   "source": [
    "def quickSort(arr, p=0, r=-1):\n",
    "    if r==-1:\n",
    "        r=len(arr)-1\n",
    "    if p<r:\n",
    "        q=partition(arr, p, r)\n",
    "        quickSort(arr, p, q-1)\n",
    "        quickSort(arr, q+1, r)"
   ]
  },
  {
   "cell_type": "code",
   "execution_count": 2,
   "metadata": {},
   "outputs": [],
   "source": [
    "def partition(arr, p, r):\n",
    "    x = arr[r]\n",
    "    i = p-1\n",
    "    for j in range(p, r):\n",
    "        if arr[j] <= x:\n",
    "            i = i+1\n",
    "            arr[i], arr[j] = arr[j], arr[i]\n",
    "    arr[i+1], arr[r] = arr[r], arr[i+1]\n",
    "    return i+1"
   ]
  },
  {
   "cell_type": "code",
   "execution_count": 3,
   "metadata": {},
   "outputs": [
    {
     "name": "stdout",
     "output_type": "stream",
     "text": [
      "[1, 2, 3, 4, 5, 6, 7, 8]\n"
     ]
    }
   ],
   "source": [
    "arr_test = [2,8,7,1,3,5,6,4]\n",
    "quickSort(arr_test)\n",
    "print(arr_test)"
   ]
  },
  {
   "cell_type": "markdown",
   "metadata": {},
   "source": [
    "如果数组本来为降序，则为最糟糕情况"
   ]
  },
  {
   "cell_type": "markdown",
   "metadata": {},
   "source": [
    "+ 快速排序的随机化版本：为了尽可能避免出现最坏情况，与始终采用$A[r]$作为主元的方法不同，而随机从子数组$A[p..r]$中选择一个元素作为主元。只需要在排序前，将$A[r]$与$A[p..r]$中的随机选出的一个元素进行交换。"
   ]
  },
  {
   "cell_type": "code",
   "execution_count": 4,
   "metadata": {},
   "outputs": [],
   "source": [
    "import random"
   ]
  },
  {
   "cell_type": "code",
   "execution_count": 10,
   "metadata": {},
   "outputs": [],
   "source": [
    "def randomizedPartition(arr, p, r):\n",
    "    i = random.randint(p, r)\n",
    "    arr[r], arr[i] = arr[i], arr[r]\n",
    "    return partition(arr, p, r)"
   ]
  },
  {
   "cell_type": "markdown",
   "metadata": {},
   "source": [
    "+ 三数取中划分：从子数组中随机选出三个元素，取其中位数作为主元。\n",
    "+ 模糊排序：给n个$[a_i,b_i]$这样的闭区间进行排序。"
   ]
  },
  {
   "cell_type": "code",
   "execution_count": null,
   "metadata": {},
   "outputs": [],
   "source": []
  }
 ],
 "metadata": {
  "kernelspec": {
   "display_name": "dllearn",
   "language": "python",
   "name": "dllearn"
  },
  "language_info": {
   "codemirror_mode": {
    "name": "ipython",
    "version": 3
   },
   "file_extension": ".py",
   "mimetype": "text/x-python",
   "name": "python",
   "nbconvert_exporter": "python",
   "pygments_lexer": "ipython3",
   "version": "3.6.8"
  }
 },
 "nbformat": 4,
 "nbformat_minor": 2
}
