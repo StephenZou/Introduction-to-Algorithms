{
 "cells": [
  {
   "cell_type": "markdown",
   "metadata": {},
   "source": [
    "### 构建和维护最大堆"
   ]
  },
  {
   "cell_type": "markdown",
   "metadata": {},
   "source": [
    "+ 堆：堆是一个数组，可以被看成一个近似的完全二叉树，树上的每一个节点对应数组的一个元素。除了最底层外，该树是完全充满的，而且是从左向右填充。表示对的数组$A$包括连个属性：$A.length$给出数组元素的个数，$A.heap-size$表示有多少个堆元素存储在该数组中。\n",
    "+ 最大堆：某个结点的值至多与其父结点一样大。\n",
    "+ 最小堆：某个结点的值至少与其父结点一样大。\n",
    "+ 时间复杂度：$nlog_2n$\n",
    "+ 排序是原址性的"
   ]
  },
  {
   "cell_type": "code",
   "execution_count": 10,
   "metadata": {},
   "outputs": [],
   "source": [
    "class Heapify:\n",
    "    def __init__(self, arr):\n",
    "        self.arr = arr\n",
    "        self.heapSize = len(arr)\n",
    "    def parent(self, i):\n",
    "        return i//2\n",
    "    def right(self, i):\n",
    "        return 2*i+1\n",
    "    def left(self, i):\n",
    "        return 2*i+2\n",
    "    def max_heapify(self, i):\n",
    "        l = self.left(i)\n",
    "        r = self.right(i)\n",
    "        largest = -1\n",
    "        if l < self.heapSize and self.arr[l] > self.arr[i]:\n",
    "            largest = l\n",
    "        else:\n",
    "            largest = i\n",
    "        if r < self.heapSize and self.arr[r] > self.arr[largest]:\n",
    "            largest = r\n",
    "        if largest != i:\n",
    "            self.arr[i], self.arr[largest] = self.arr[largest], self.arr[i]\n",
    "            self.max_heapify(largest)\n",
    "    def build_max_heap(self):\n",
    "        for i in range(self.heapSize//2, -1, -1):\n",
    "            self.max_heapify(i)"
   ]
  },
  {
   "cell_type": "markdown",
   "metadata": {},
   "source": [
    "![构建最大堆](./image/buildheap.png)"
   ]
  },
  {
   "cell_type": "code",
   "execution_count": 11,
   "metadata": {},
   "outputs": [],
   "source": [
    "test_arr = [4, 1, 3, 2, 16, 9, 10, 14, 8, 7]\n",
    "heap = Heapify(test_arr)"
   ]
  },
  {
   "cell_type": "code",
   "execution_count": 12,
   "metadata": {},
   "outputs": [
    {
     "name": "stdout",
     "output_type": "stream",
     "text": [
      "[16, 14, 10, 8, 7, 9, 3, 2, 4, 1]\n"
     ]
    }
   ],
   "source": [
    "heap.build_max_heap()\n",
    "print(test_arr)"
   ]
  },
  {
   "cell_type": "markdown",
   "metadata": {},
   "source": [
    "### 堆排序"
   ]
  },
  {
   "cell_type": "markdown",
   "metadata": {},
   "source": [
    "+ 堆排序思想：将数组建成最大堆，则数组中最大的元素就在根结点$A[1]$上，通过把它与$A[n]$进行交换，可以让该元素放到正确的位置。在剩余结点中，调用max_heapify(A, 0)，从而在$A[0..n-1]$上构造一个新的最大堆。排序算法不断重复这一过程，直到堆的大小降到2"
   ]
  },
  {
   "cell_type": "code",
   "execution_count": 58,
   "metadata": {},
   "outputs": [],
   "source": [
    "class HeapSort:\n",
    "    def __init__(self, arr):\n",
    "        self.arr = arr\n",
    "        self.heapSize = len(arr)\n",
    "    def parent(self, i):\n",
    "        return (i-1)//2\n",
    "    def right(self, i):\n",
    "        return 2*i+1\n",
    "    def left(self, i):\n",
    "        return 2*i+2\n",
    "    def max_heapify(self, i):\n",
    "        l = self.left(i)\n",
    "        r = self.right(i)\n",
    "        largest = -1\n",
    "        if l < self.heapSize and self.arr[l] > self.arr[i]:\n",
    "            largest = l\n",
    "        else:\n",
    "            largest = i\n",
    "        if r < self.heapSize and self.arr[r] > self.arr[largest]:\n",
    "            largest = r\n",
    "        if largest != i:\n",
    "            self.arr[i], self.arr[largest] = self.arr[largest], self.arr[i]\n",
    "            self.max_heapify(largest)\n",
    "    def build_max_heap(self):\n",
    "        for i in range(self.heapSize//2, -1, -1):\n",
    "            self.max_heapify(i)\n",
    "    def sort(self):\n",
    "        self.build_max_heap()\n",
    "        for i in range(len(self.arr)-1,0,-1):\n",
    "            self.arr[0], self.arr[i] = self.arr[i], self.arr[0]\n",
    "            self.heapSize -= 1\n",
    "            self.max_heapify(0)"
   ]
  },
  {
   "cell_type": "code",
   "execution_count": 18,
   "metadata": {},
   "outputs": [
    {
     "name": "stdout",
     "output_type": "stream",
     "text": [
      "[1, 2, 3, 4, 7, 8, 9, 10, 14, 16]\n"
     ]
    }
   ],
   "source": [
    "test_arr_sort = [4, 1, 3, 2, 16, 9, 10, 14, 8, 7]\n",
    "heapSort = HeapSort(test_arr_sort)\n",
    "heapSort.sort()\n",
    "print(test_arr_sort)"
   ]
  },
  {
   "cell_type": "markdown",
   "metadata": {},
   "source": [
    "### 优先队列"
   ]
  },
  {
   "cell_type": "markdown",
   "metadata": {},
   "source": [
    "(1) 优先队列是一种用来维护由一组元素构成的集合S的数据结构，其中的每一个元素都有一个相关的值，称为关键字。一个最大优先队列支持一下操作：\n",
    "+ $INSERT(S,x)$: 把元素$x$插入到集合$S$中。\n",
    "+ $MAXIMUM(S)$: 返回$S$中具有最大关键字的元素。\n",
    "+ $EXTRACT-MAX(S)$: 去掉并返回$S$中的具有最大关键字的元素。\n",
    "+ $INCREASE-KEY(S, x, k)$: 将元素$x$的关键字值增加到$k$，这里假设$k$的值不小于$x$的原关键字值。\n",
    "\n",
    "(2) 最大优先队列可用于共享计算机系统的作业调度。最大优先队列记录将要执行的各个作业以及他们之间的相对优先级。当一个作业完成或者被中断后，调度器调用EXTRACT-MAX从所有的等待作业中，选出具有最高优先级的作业来执行。在任何时候，调度器可以调用INSERT把一个新作业加入到队列中来。\n",
    "\n",
    "(3) 最小优先队列可以被用于基于事件驱动的模拟器"
   ]
  },
  {
   "cell_type": "code",
   "execution_count": 61,
   "metadata": {},
   "outputs": [],
   "source": [
    "class PriorityQueue:\n",
    "    def __init__(self, heap):\n",
    "        self.heap = heap\n",
    "        heap.build_max_heap()\n",
    "        self.arr = heap.arr\n",
    "        self.heapSize = len(heap.arr)\n",
    "    def heapMaximum(self):\n",
    "        return self.arr[0]\n",
    "    def heapExtractMax(self):\n",
    "        if self.heapSize < 0:\n",
    "            raise Exception(\"heap underflow\")\n",
    "        maxValue = self.arr[0]\n",
    "        self.arr[0] = self.arr[self.heapSize-1]\n",
    "        del self.arr[self.heapSize-1]\n",
    "        self.heap.heapSize -= 1\n",
    "        self.heapSize -= 1\n",
    "        self.heap.max_heapify(0)\n",
    "        return maxValue\n",
    "    def heapIncreaseKey(self, i, key):\n",
    "        if key < self.arr[i]:\n",
    "            raise Exception(\"new key is smaller than current key\")\n",
    "        self.arr[i] = key\n",
    "        while i > 0 and self.arr[self.heap.parent(i)] < self.arr[i]:\n",
    "            self.arr[i], self.arr[self.heap.parent(i)] = self.arr[self.heap.parent(i)], self.arr[i]\n",
    "            i = self.heap.parent(i)\n",
    "    def maxHeapInsert(self, key):\n",
    "        self.arr = self.arr + [float('-inf')]\n",
    "        self.heapIncreaseKey(self.heapSize, key)\n",
    "        self.heapSize += 1"
   ]
  },
  {
   "cell_type": "code",
   "execution_count": 62,
   "metadata": {},
   "outputs": [],
   "source": [
    "test_arr_queue = [4, 1, 3, 2, 16, 9, 10, 14, 8, 7]\n",
    "heapSort = HeapSort(test_arr_queue)\n",
    "queue = PriorityQueue(heapSort)"
   ]
  },
  {
   "cell_type": "code",
   "execution_count": 63,
   "metadata": {},
   "outputs": [
    {
     "data": {
      "text/plain": [
       "[16, 14, 10, 8, 7, 9, 3, 2, 4, 1]"
      ]
     },
     "execution_count": 63,
     "metadata": {},
     "output_type": "execute_result"
    }
   ],
   "source": [
    "queue.arr"
   ]
  },
  {
   "cell_type": "code",
   "execution_count": 64,
   "metadata": {},
   "outputs": [
    {
     "data": {
      "text/plain": [
       "16"
      ]
     },
     "execution_count": 64,
     "metadata": {},
     "output_type": "execute_result"
    }
   ],
   "source": [
    "# 获取最大值\n",
    "queue.heapMaximum()"
   ]
  },
  {
   "cell_type": "code",
   "execution_count": 65,
   "metadata": {},
   "outputs": [
    {
     "data": {
      "text/plain": [
       "16"
      ]
     },
     "execution_count": 65,
     "metadata": {},
     "output_type": "execute_result"
    }
   ],
   "source": [
    "# 获取最大值并删除\n",
    "queue.heapExtractMax()"
   ]
  },
  {
   "cell_type": "code",
   "execution_count": 66,
   "metadata": {},
   "outputs": [
    {
     "data": {
      "text/plain": [
       "[14, 8, 10, 4, 7, 9, 3, 2, 1]"
      ]
     },
     "execution_count": 66,
     "metadata": {},
     "output_type": "execute_result"
    }
   ],
   "source": [
    "queue.arr"
   ]
  },
  {
   "cell_type": "code",
   "execution_count": 67,
   "metadata": {},
   "outputs": [],
   "source": [
    "# 将索引7处的值改为7\n",
    "queue.heapIncreaseKey(7,7)"
   ]
  },
  {
   "cell_type": "code",
   "execution_count": 68,
   "metadata": {},
   "outputs": [
    {
     "data": {
      "text/plain": [
       "[14, 8, 10, 7, 7, 9, 3, 4, 1]"
      ]
     },
     "execution_count": 68,
     "metadata": {},
     "output_type": "execute_result"
    }
   ],
   "source": [
    "queue.arr"
   ]
  },
  {
   "cell_type": "code",
   "execution_count": 69,
   "metadata": {},
   "outputs": [],
   "source": [
    "# 插入6\n",
    "queue.maxHeapInsert(6)"
   ]
  },
  {
   "cell_type": "code",
   "execution_count": 70,
   "metadata": {},
   "outputs": [
    {
     "data": {
      "text/plain": [
       "[14, 8, 10, 7, 7, 9, 3, 4, 1, 6]"
      ]
     },
     "execution_count": 70,
     "metadata": {},
     "output_type": "execute_result"
    }
   ],
   "source": [
    "queue.arr"
   ]
  },
  {
   "cell_type": "code",
   "execution_count": 71,
   "metadata": {},
   "outputs": [
    {
     "data": {
      "text/plain": [
       "10"
      ]
     },
     "execution_count": 71,
     "metadata": {},
     "output_type": "execute_result"
    }
   ],
   "source": [
    "queue.heapSize"
   ]
  },
  {
   "cell_type": "code",
   "execution_count": 72,
   "metadata": {},
   "outputs": [],
   "source": [
    "# 插入19\n",
    "queue.maxHeapInsert(19)"
   ]
  },
  {
   "cell_type": "code",
   "execution_count": 73,
   "metadata": {},
   "outputs": [
    {
     "data": {
      "text/plain": [
       "[19, 14, 10, 7, 8, 9, 3, 4, 1, 6, 7]"
      ]
     },
     "execution_count": 73,
     "metadata": {},
     "output_type": "execute_result"
    }
   ],
   "source": [
    "queue.arr"
   ]
  },
  {
   "cell_type": "code",
   "execution_count": 74,
   "metadata": {},
   "outputs": [
    {
     "data": {
      "text/plain": [
       "11"
      ]
     },
     "execution_count": 74,
     "metadata": {},
     "output_type": "execute_result"
    }
   ],
   "source": [
    "queue.heapSize"
   ]
  },
  {
   "cell_type": "code",
   "execution_count": null,
   "metadata": {},
   "outputs": [],
   "source": []
  }
 ],
 "metadata": {
  "kernelspec": {
   "display_name": "dllearn",
   "language": "python",
   "name": "dllearn"
  },
  "language_info": {
   "codemirror_mode": {
    "name": "ipython",
    "version": 3
   },
   "file_extension": ".py",
   "mimetype": "text/x-python",
   "name": "python",
   "nbconvert_exporter": "python",
   "pygments_lexer": "ipython3",
   "version": "3.6.8"
  }
 },
 "nbformat": 4,
 "nbformat_minor": 2
}
